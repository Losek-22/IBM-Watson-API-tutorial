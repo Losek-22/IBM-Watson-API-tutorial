{
 "cells": [
  {
   "cell_type": "code",
   "execution_count": 1,
   "metadata": {},
   "outputs": [
    {
     "data": {
      "text/plain": [
       "{'olejnik': 'ufgbyspd master', 'wip': 'smietnik'}"
      ]
     },
     "metadata": {},
     "output_type": "display_data"
    }
   ],
   "source": [
    "from IPython.display import display\n",
    "\n",
    "definicje = {'olejnik':'ufgbyspd master',\n",
    "             'wip':'smietnik'}\n",
    "\n",
    "display(definicje)"
   ]
  },
  {
   "cell_type": "code",
   "execution_count": 2,
   "metadata": {},
   "outputs": [
    {
     "data": {
      "text/plain": [
       "'olejnik'"
      ]
     },
     "metadata": {},
     "output_type": "display_data"
    },
    {
     "data": {
      "text/plain": [
       "'wip'"
      ]
     },
     "metadata": {},
     "output_type": "display_data"
    }
   ],
   "source": [
    "for key in definicje.keys():\n",
    "    display(key)"
   ]
  },
  {
   "cell_type": "code",
   "execution_count": 3,
   "metadata": {},
   "outputs": [
    {
     "data": {
      "text/plain": [
       "'ufgbyspd master'"
      ]
     },
     "metadata": {},
     "output_type": "display_data"
    },
    {
     "data": {
      "text/plain": [
       "'smietnik'"
      ]
     },
     "metadata": {},
     "output_type": "display_data"
    }
   ],
   "source": [
    "for value in definicje.values():\n",
    "    display(value)"
   ]
  },
  {
   "cell_type": "code",
   "execution_count": 4,
   "metadata": {},
   "outputs": [
    {
     "data": {
      "text/plain": [
       "'Klucz olejnik ma wartość ufgbyspd master'"
      ]
     },
     "metadata": {},
     "output_type": "display_data"
    },
    {
     "data": {
      "text/plain": [
       "'Klucz wip ma wartość smietnik'"
      ]
     },
     "metadata": {},
     "output_type": "display_data"
    }
   ],
   "source": [
    "for key, value in definicje.items():\n",
    "    display(f'Klucz {key} ma wartość {value}')"
   ]
  },
  {
   "cell_type": "code",
   "execution_count": 5,
   "metadata": {},
   "outputs": [
    {
     "ename": "KeyError",
     "evalue": "'cos_co_nie_istnieje'",
     "output_type": "error",
     "traceback": [
      "\u001b[1;31m---------------------------------------------------------------------------\u001b[0m",
      "\u001b[1;31mKeyError\u001b[0m                                  Traceback (most recent call last)",
      "\u001b[1;32m<ipython-input-5-705c21a46a97>\u001b[0m in \u001b[0;36m<module>\u001b[1;34m\u001b[0m\n\u001b[1;32m----> 1\u001b[1;33m \u001b[0mdefinicje\u001b[0m\u001b[1;33m[\u001b[0m\u001b[1;34m'cos_co_nie_istnieje'\u001b[0m\u001b[1;33m]\u001b[0m\u001b[1;33m\u001b[0m\u001b[1;33m\u001b[0m\u001b[0m\n\u001b[0m",
      "\u001b[1;31mKeyError\u001b[0m: 'cos_co_nie_istnieje'"
     ]
    }
   ],
   "source": [
    "definicje['cos_co_nie_istnieje']"
   ]
  },
  {
   "cell_type": "code",
   "execution_count": 6,
   "metadata": {},
   "outputs": [
    {
     "data": {
      "text/plain": [
       "None"
      ]
     },
     "metadata": {},
     "output_type": "display_data"
    }
   ],
   "source": [
    "display(\n",
    "    definicje.get('cos_co_nie_istnieje')\n",
    ")"
   ]
  },
  {
   "cell_type": "code",
   "execution_count": 7,
   "metadata": {},
   "outputs": [
    {
     "name": "stdout",
     "output_type": "stream",
     "text": [
      "jadawdawfawaweaweqwewqewq\n",
      "\n",
      "wafawfwafaweawewae\n"
     ]
    }
   ],
   "source": [
    "# zamiast print() możesz dać print('jakis tekst sobie leci a na koniec dajesz \\n')\n",
    "print('jadawdawfawaweaweqwewqewq\\n')\n",
    "print('wafawfwafaweawewae')\n",
    "# warto zacząć się do tego przyzwyczajać, to znak newline i będzie się pojawiał w programowaniu, tak jak inne białe znaki"
   ]
  },
  {
   "cell_type": "code",
   "execution_count": 8,
   "metadata": {},
   "outputs": [
    {
     "data": {
      "text/plain": [
       "'cosnowego'"
      ]
     },
     "metadata": {},
     "output_type": "display_data"
    }
   ],
   "source": [
    "# update słownika, nie robiłem tego tak nigdy ale just in case możesz też tak\n",
    "definicja = 'cosnowego'\n",
    "definicje['olejnik'] = definicja # i tak też zadziała, bez definicje.update\n",
    "display(definicje['olejnik'])"
   ]
  },
  {
   "cell_type": "code",
   "execution_count": 9,
   "metadata": {},
   "outputs": [
    {
     "name": "stdout",
     "output_type": "stream",
     "text": [
      "Typ zmiennej result to: <class 'list'>\n"
     ]
    },
    {
     "data": {
      "text/plain": [
       "['i', 'want', 'to', 'die', 'ssie', 'chuja']"
      ]
     },
     "metadata": {},
     "output_type": "display_data"
    },
    {
     "name": "stdout",
     "output_type": "stream",
     "text": [
      "------------------------------------------------------------------\n",
      "Typ zmiennej result to: <class 'NoneType'>\n",
      "Takiej wartości nie ma w liście\n"
     ]
    }
   ],
   "source": [
    "def delete_value_from_list(my_list, val):\n",
    "    \"\"\"\n",
    "    params:\n",
    "        val- string value you want to delete from the list\n",
    "    returns:\n",
    "        list object with the value deleted or 'None' if an error occured\n",
    "    \"\"\"\n",
    "    if val in my_list:\n",
    "        my_list.remove(val)\n",
    "        return my_list\n",
    "    else:\n",
    "        return None\n",
    "\n",
    "my_list = ['i', 'want', 'to', 'die', 'nataniel', 'ssie', 'chuja']\n",
    "\n",
    "to_delete = 'nataniel' #ta wartość jest w liście\n",
    "result = delete_value_from_list(my_list, to_delete)\n",
    "\n",
    "print(f'Typ zmiennej result to: {type(result)}')\n",
    "\n",
    "if isinstance(result, list):\n",
    "    display(result)\n",
    "else:\n",
    "    print('Takiej wartości nie ma w liście')\n",
    "    \n",
    "print('------------------------------------------------------------------')\n",
    "    \n",
    "to_delete = 'wip_to_gowno' # teraz tej wartości nie ma w liście\n",
    "result = delete_value_from_list(my_list, to_delete)\n",
    "\n",
    "print(f'Typ zmiennej result to: {type(result)}')\n",
    "\n",
    "if isinstance(result, list):\n",
    "    display(result)\n",
    "else:\n",
    "    print('Takiej wartości nie ma w liście')"
   ]
  }
 ],
 "metadata": {
  "kernelspec": {
   "display_name": "Python 3",
   "language": "python",
   "name": "python3"
  },
  "language_info": {
   "codemirror_mode": {
    "name": "ipython",
    "version": 3
   },
   "file_extension": ".py",
   "mimetype": "text/x-python",
   "name": "python",
   "nbconvert_exporter": "python",
   "pygments_lexer": "ipython3",
   "version": "3.8.1"
  }
 },
 "nbformat": 4,
 "nbformat_minor": 4
}
